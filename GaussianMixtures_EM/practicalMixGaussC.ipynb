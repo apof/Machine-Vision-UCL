{
 "cells": [
  {
   "cell_type": "markdown",
   "metadata": {},
   "source": [
    "# practicalMixGaussC\n",
    "\n",
    "The goal of this part of the lab is to fit a mixture of gaussians model to some multi-dimensional data. To do this, we will first generate some data from a known mixture of gaussians model and fit our own mixture of gaussians model to the generated data. The parameters from our estimated mixture of gaussians model should roughly match those of the original known model. \n",
    "\n",
    "Note that you should not use multivariate_normal.pdf for calculating likelihood.\n",
    "\n",
    "You should use this template for your code and fill in the missing \n",
    "sections marked \"TO DO.\"\n",
    "\n"
   ]
  },
  {
   "cell_type": "code",
   "execution_count": null,
   "metadata": {},
   "outputs": [],
   "source": [
    "import os \n",
    "import numpy as np\n",
    "import matplotlib.pyplot as plt\n",
    "import scipy.io as spio\n",
    "from scipy.stats import norm \n",
    "import time\n",
    "import sys\n",
    "\n",
    "flt_min = sys.float_info.min\n",
    "\n",
    "%matplotlib notebook"
   ]
  },
  {
   "cell_type": "code",
   "execution_count": null,
   "metadata": {},
   "outputs": [],
   "source": [
    "def multivariate_gaussian_probability_vectorized(data, mean, covariance):\n",
    "    data = data - mean[:, None]\n",
    "    return np.power(np.linalg.det(2 * np.pi * covariance), -0.5) * np.exp(-0.5 * (data.T.dot(np.linalg.inv(covariance)) * data.T).sum(1))"
   ]
  },
  {
   "cell_type": "code",
   "execution_count": null,
   "metadata": {},
   "outputs": [],
   "source": [
    "def multivariate_gaussian_probability(data, mean, covariance):\n",
    "    \n",
    "    ## transform my datum\n",
    "    \n",
    "    d = []\n",
    "    m = []\n",
    "    for i in range(len(data)):\n",
    "        d.append([data[i]])\n",
    "        m.append([mean[i]])\n",
    "        \n",
    "    mean = np.array(mean)\n",
    "    data = np.array(data)\n",
    "        \n",
    "    return float((1 / ( ((2* np.pi)**(len(mean)/2)) * (np.linalg.det(covariance)**(1/2)) )) * np.exp((-1/2) * ((data-mean).T.dot(np.linalg.inv(covariance))).dot((data-mean))))"
   ]
  },
  {
   "cell_type": "code",
   "execution_count": null,
   "metadata": {},
   "outputs": [],
   "source": [
    "#test_gauss_pdf()"
   ]
  },
  {
   "cell_type": "markdown",
   "metadata": {
    "collapsed": true
   },
   "source": [
    "## Construct Ground Truth Mixture of Gaussians Model and Plot Some Points\n",
    "\n",
    "Define some true parameters for our ground truth mixture of $k$ Gaussians model. We will represent the \n",
    "mixtures of Gaussians as a python dictionary. The mean field is a $d \\times k$ matrix and the cov field is a \n",
    "$d \\times d \\times k$ matrix."
   ]
  },
  {
   "cell_type": "code",
   "execution_count": null,
   "metadata": {},
   "outputs": [],
   "source": [
    "mixGaussTrue = dict()\n",
    "mixGaussTrue['k'] = 3\n",
    "mixGaussTrue['d'] = 2\n",
    "mixGaussTrue['weight'] = np.array([0.1309, 0.3966, 0.4725])\n",
    "mixGaussTrue['mean'] = np.array([[ 4.0491 , 4.8597],[ 7.7578 , 1.6335],[ 11.9945, 8.9206]]).T\n",
    "mixGaussTrue['cov'] = np.reshape([0.5, 0.25], newshape=(1,1,2))\n",
    "mixGaussTrue['cov'] = np.zeros(shape=(mixGaussTrue['d'],mixGaussTrue['d'],mixGaussTrue['k']))\n",
    "mixGaussTrue['cov'][:,:,0] = np.array([[  4.2534, 0.4791], [0.4791, 0.3522]])\n",
    "mixGaussTrue['cov'][:,:,1] = np.array([[  0.9729, 0.8723],[  0.8723,  2.6317]])\n",
    "mixGaussTrue['cov'][:,:,2] = np.array([[  0.9886, -1.2244],[ -1.2244, 3.0187]])"
   ]
  },
  {
   "cell_type": "markdown",
   "metadata": {
    "collapsed": true
   },
   "source": [
    "**drawEMData2d**, **sampleFromDiscrete**, **getGaussian2SD**, and **drawGaussianOutline** are helper functions."
   ]
  },
  {
   "cell_type": "code",
   "execution_count": null,
   "metadata": {
    "scrolled": true
   },
   "outputs": [],
   "source": [
    "def sampleFromDiscrete(probDist):     \n",
    "    \"\"\"\n",
    "    Draws a random sample from a discrete probability distribution using a rejection sampling method.  \n",
    "    \n",
    "    Keyword arguments:\n",
    "    probDist -- discrete probability ditrubtion to sample from.\n",
    "    \n",
    "    Returns: \n",
    "    r -- sampled point.\n",
    "    \"\"\"\n",
    "    nIndex = len(probDist)                                                                 \n",
    "    while True:                                                                            \n",
    "        #choose random index                                                               \n",
    "        r=int(np.floor(np.random.uniform()*nIndex))                                        \n",
    "        #choose random height                                                              \n",
    "        randHeight = np.random.uniform()                                                   \n",
    "        #if height is less than probability value at this point in the                     \n",
    "        # histogram then select                                                            \n",
    "        if randHeight<probDist[r]:                                                         \n",
    "            break                                                                          \n",
    "    return r                                                                               "
   ]
  },
  {
   "cell_type": "code",
   "execution_count": null,
   "metadata": {},
   "outputs": [],
   "source": [
    "def getGaussian2SD(m,s,angle1):\n",
    "    \"\"\"\n",
    "    Find position of in xy co-ordinates at 2SD out for a certain angle.\n",
    "    \"\"\"\n",
    "  \n",
    "    if s.shape[1] == 1:\n",
    "        s = diag(s)\n",
    "\n",
    "    vec = np.array([np.cos(angle1), np.sin(angle1)])\n",
    "    \n",
    "    factor = 4/(vec@np.linalg.inv(s)@vec.T)\n",
    "    \n",
    "    x = np.cos(angle1) * np.sqrt(factor)\n",
    "    y = np.sin(angle1) * np.sqrt(factor)\n",
    "\n",
    "    x = x + m[0]\n",
    "    y = y + m[1]\n",
    "                \n",
    "    return x,y"
   ]
  },
  {
   "cell_type": "code",
   "execution_count": null,
   "metadata": {},
   "outputs": [],
   "source": [
    "def drawGaussianOutline(m,s,w):\n",
    "    \"\"\"\n",
    "    Draw 2DGaussian\n",
    "    \"\"\"\n",
    "    angleInc = 0.1    \n",
    "    c = (0.9*(1-w), 0, 0)\n",
    "\n",
    "    for cAngle in np.arange(0,2*np.pi,angleInc):         \n",
    "        angle1 = cAngle\n",
    "        angle2 = cAngle+angleInc\n",
    "        x1, y1 = getGaussian2SD(m,s,angle1)\n",
    "        x2, y2 = getGaussian2SD(m,s,angle2)\n",
    "        plt.plot([x1, x2],[y1, y2],'-',linewidth=2,color=c)                 \n",
    "    return"
   ]
  },
  {
   "cell_type": "code",
   "execution_count": null,
   "metadata": {},
   "outputs": [],
   "source": [
    "def drawEMData2d(data,mixGauss):\n",
    "    \"\"\"\n",
    "    Plot the data plot the mixtures of Gaussian model, mixGauss, on top of it.\n",
    "    \n",
    "    Keyword arguments:\n",
    "    data -- d by n matrix of data points.\n",
    "    mixGauss -- dict with mixture of gaussian information.\n",
    "    \n",
    "    \"\"\"\n",
    "    #set(gcf,'Color',[1 1 1])\n",
    "    plt.cla() \n",
    "    plt.plot(data[0,:],data[1,:],'k.')\n",
    "\n",
    "    for cGauss in range(mixGauss['k']):\n",
    "        drawGaussianOutline(mixGauss['mean'][:,cGauss],mixGauss['cov'][:,:,cGauss],mixGauss['weight'][cGauss])\n",
    "    \n",
    "    return     \n"
   ]
  },
  {
   "cell_type": "markdown",
   "metadata": {},
   "source": [
    "**TODO H HERE:**\n",
    "\n",
    "Complete the TO DO in this function before moving on."
   ]
  },
  {
   "cell_type": "code",
   "execution_count": null,
   "metadata": {},
   "outputs": [],
   "source": [
    "def mixGaussGen(mixGauss, nData):                                                                              \n",
    "    \"\"\"\n",
    "    Generates data from a d-dimensional mixture of Gaussians model. \n",
    "    \n",
    "    Keyword arguments:\n",
    "    mixGauss -- dict containing the mixture of gaussians arguments.\n",
    "    nData -- number of data points to generate.\n",
    "    \n",
    "    Returns: \n",
    "    data -- d by nData, generated data points. \n",
    "    \n",
    "    \"\"\"\n",
    "    \n",
    "    # create space for output data                                                                               \n",
    "    data = np.zeros(shape=(mixGauss['d'], nData))\n",
    "    \n",
    "    # for each data point                                                                                        \n",
    "    for cData in range(nData):                                                                                   \n",
    "        # randomly choose Gaussian according to probability distributions                                        \n",
    "        h = sampleFromDiscrete(mixGauss['weight'])                                                               \n",
    "        # draw a sample from the appropriate Gaussian distribution  \n",
    "        # first sample from the covariance matrix (google how to do this - it\n",
    "        # will involve the numpy function np.linalg.cholesky().  Then add the mean vector\n",
    "        \n",
    "        # TO DO (h)- insert data generation code here                                                                               \n",
    "        #placeholder = -1 # remove this palceholder when you do.\n",
    "        \n",
    "        sampled_cov = np.linalg.cholesky(mixGaussTrue.get('cov')[:,:,h])\n",
    "        data[:, cData] = mixGaussTrue.get('mean')[:,h] + sampled_cov@np.random.randn(2)\n",
    "                                                                                                         \n",
    "    return data"
   ]
  },
  {
   "cell_type": "markdown",
   "metadata": {},
   "source": [
    "With all the helper functions complete, we can now generate and plot some points from our model. The black points are the generated data points. The circles are what the gaussians look like."
   ]
  },
  {
   "cell_type": "code",
   "execution_count": null,
   "metadata": {},
   "outputs": [],
   "source": [
    "#define number of samples to generate\n",
    "nData = 400;\n",
    "\n",
    "#generate data from the mixture of Gaussians\n",
    "#make sure you've filled in the routine above.\n",
    "data = mixGaussGen(mixGaussTrue,nData)\n",
    "\n",
    "print(data.shape)\n",
    "\n",
    "#draw data, true Gaussians\n",
    "drawEMData2d(data,mixGaussTrue)"
   ]
  },
  {
   "cell_type": "markdown",
   "metadata": {
    "collapsed": true
   },
   "source": [
    "## Estimate MoG using the E-M Algorithm\n",
    "Here we want to use the E-M algorithm to fit a MoG model to our data points. \n",
    "\n",
    "**TODO I HERE:** \n",
    "\n",
    "Fill out the missing parts below. \n",
    "\n",
    "The log likelihood is taken since the raw likelihood value could be too small for our machine's percision."
   ]
  },
  {
   "cell_type": "code",
   "execution_count": null,
   "metadata": {},
   "outputs": [],
   "source": [
    "def getMixGaussLogLike(data, mixGaussEst): \n",
    "   \n",
    "    \n",
    "    data = np.atleast_2d(data)                                                                         \n",
    "    nDims, nData = data.shape                                                                          \n",
    "    \n",
    "    # initialize log likelihoods                                                                       \n",
    "    logLike = 0                                                                                       \n",
    "                                                                                                       \n",
    "    # run through each data item                                                                       \n",
    "    for cData in range(nData):                                                                         \n",
    "        thisData = data[:, cData]                                                                      \n",
    "       \n",
    "        like = 0\n",
    "        for k in range(0,mixGaussEst.get('k')):\n",
    "            l = mixGaussEst.get('weight')[k]\n",
    "            norm = multivariate_gaussian_probability(thisData, mixGaussTrue.get('mean')[:,k],  mixGaussTrue.get('cov')[:,:,k])\n",
    "            like += l*norm   \n",
    "        logLike = logLike + np.log(like)                                                               \n",
    "                                                                                                       \n",
    "    return  np.asscalar(logLike)                                                                       \n",
    "                                                                                                       "
   ]
  },
  {
   "cell_type": "code",
   "execution_count": null,
   "metadata": {},
   "outputs": [],
   "source": [
    "## compute the log likelihood\n",
    "def log_likelihood_vectorized(data, mixGaussEst):\n",
    "       \n",
    "    log_likelihoods = np.zeros((mixGaussEst['k'], data.shape[1]))\n",
    "\n",
    "    for k in range(mixGaussEst['k']): \n",
    "        log_likelihoods[k, :] = mixGaussEst['weight'][k]*multivariate_gaussian_probability_vectorized(data, mixGaussEst['mean'][:, k], mixGaussEst['cov'][:, :,k])\n",
    "\n",
    "    return np.asscalar(np.sum(np.log(np.sum(log_likelihoods, axis=0))))\n"
   ]
  },
  {
   "cell_type": "code",
   "execution_count": null,
   "metadata": {},
   "outputs": [],
   "source": [
    "def E_step(responsibilities,mixGaussEst,data):\n",
    "    \n",
    "    curCov = mixGaussEst['cov']                                                                             \n",
    "    curWeight = mixGaussEst['weight']                                                                            \n",
    "    curMean = mixGaussEst['mean']\n",
    "    \n",
    "    l = np.zeros((mixGaussEst.get('k'),data.shape[1]),dtype=np.float64)\n",
    "    r = np.zeros((mixGaussEst.get('k'),data.shape[1]),dtype=np.float64)\n",
    "    \n",
    "    i = -1\n",
    "    for cData in range(data.shape[1]):\n",
    "        i += 1\n",
    "        \n",
    "        thisData = data[:, cData] \n",
    "        \n",
    "        sum_l = 0\n",
    "        for k in range(0,mixGaussEst.get('k')):\n",
    "            \n",
    "            norm = multivariate_gaussian_probability(thisData.T, mixGaussTrue.get('mean')[:,k],  mixGaussTrue.get('cov')[:,:,k])\n",
    "            ll = mixGaussEst.get('weight')[k]*norm\n",
    "            \n",
    "            l[k][i] = ll\n",
    "            sum_l += l[k][i]\n",
    "        \n",
    "        for k in range(0,mixGaussEst.get('k')):\n",
    "            r[k][i] = l[k][i]/sum_l\n",
    "                                                                                                \n",
    "    return r"
   ]
  },
  {
   "cell_type": "code",
   "execution_count": null,
   "metadata": {},
   "outputs": [],
   "source": [
    "# Expectation step\n",
    "def E_step_vectorized(responsibilities,mixGaussEst,data):\n",
    "\n",
    "    for k in range(mixGaussEst.get('k')):\n",
    "        responsibilities[k, :] = mixGaussEst['weight'][k] * \\\n",
    "        multivariate_gaussian_probability_vectorized(data, mixGaussEst['mean'][:, k], mixGaussEst['cov'][:, :, k])\n",
    "\n",
    "    responsibilities /= np.sum(responsibilities, axis=0) + sys.float_info.min\n",
    "            \n",
    "    return responsibilities"
   ]
  },
  {
   "cell_type": "code",
   "execution_count": null,
   "metadata": {},
   "outputs": [],
   "source": [
    "def create_diagonal_covariance(cov):\n",
    "    a_dim,b_dim = cov.shape\n",
    "    new_cov = np.zeros((a_dim,b_dim),dtype=np.float64)\n",
    "    diag = np.diagonal(cov)\n",
    "    for i in range(0,a_dim):\n",
    "        for j in range(0,b_dim):\n",
    "            if(i==j):\n",
    "                new_cov[i][j] = diag[i]\n",
    "                \n",
    "    return new_cov"
   ]
  },
  {
   "cell_type": "code",
   "execution_count": null,
   "metadata": {},
   "outputs": [],
   "source": [
    "def M_step(k,mixGaussEst,responsibilities,data):\n",
    "\n",
    "                                                                               \n",
    "    for cGauss in range(k):\n",
    "        \n",
    "        nDims, nData = data.shape\n",
    "        \n",
    "        \n",
    "        new_m_matrix = np.zeros((1,nDims),dtype=np.float64)\n",
    "        new_c_matrix = np.zeros((nDims,nDims),dtype=np.float64)\n",
    "\n",
    "        ## update the weights\n",
    "        r = 0\n",
    "        for i in range(data.shape[1]):\n",
    "            r += responsibilities[cGauss][i]\n",
    "    \n",
    "        sum_l = 0\n",
    "        for kk in range(k):\n",
    "            for ii in range(data.shape[1]):\n",
    "                sum_l += responsibilities[kk][ii]\n",
    "        \n",
    "        mixGaussEst['weight'][cGauss] = r/sum_l\n",
    "        \n",
    "        ## update the mean\n",
    "        i = -1\n",
    "        for cData in range(data.shape[1]):\n",
    "            i += 1\n",
    "            \n",
    "            thisData = data[:, cData]\n",
    "            new_m_matrix = np.add(new_m_matrix,responsibilities[cGauss][i]*thisData)    \n",
    "       \n",
    "        new_m = new_m_matrix/r\n",
    "        \n",
    "        mixGaussEst.get('mean')[:,cGauss] = new_m\n",
    "        \n",
    "        ## update the covariance\n",
    "        \n",
    "        i = -1\n",
    "        for cData in range(data.shape[1]):\n",
    "            \n",
    "            i += 1\n",
    "            \n",
    "            thisData = data[:, cData]\n",
    "            \n",
    "            new_mean = mixGaussTrue.get('mean')[:,cGauss]\n",
    "            \n",
    "            sub = np.subtract(thisData,new_mean)\n",
    "            sub = sub.reshape(1,sub.shape[0])\n",
    "            \n",
    "            mu_matrix = sub.T@sub\n",
    "            \n",
    "            new_c_matrix = np.add(new_c_matrix,(responsibilities[cGauss][i]*mu_matrix))\n",
    "        \n",
    "        new_cov = new_c_matrix/r\n",
    "        \n",
    "        mixGaussEst['cov'][:,:,cGauss] = new_cov\n",
    "            \n",
    "    return mixGaussEst"
   ]
  },
  {
   "cell_type": "code",
   "execution_count": null,
   "metadata": {},
   "outputs": [],
   "source": [
    "def M_step_vectorized(responsibilities,mixGaussEst,data):\n",
    "    \n",
    "    responsibility = np.sum(responsibilities, axis=1)\n",
    "       \n",
    "    for k in range(mixGaussEst.get('k')):\n",
    "                \n",
    "        current_responsibility = responsibilities[k, :]\n",
    "        \n",
    "        ## update the weights\n",
    "        mixGaussEst['weight'][k] = (np.sum(current_responsibility) / np.sum(responsibilities))\n",
    "        ## update the mean\n",
    "        mixGaussEst['mean'][:, k] = (data @ current_responsibility / np.sum(current_responsibility))\n",
    "        ## update the covariance\n",
    "        new_m = (data - mixGaussEst['mean'][:, k][:, None])\n",
    "        mixGaussEst['cov'][:, :, k] = ((new_m * current_responsibility[None, :]) @ (new_m.T) / responsibility[k])\n",
    "        \n",
    "    return mixGaussEst"
   ]
  },
  {
   "cell_type": "markdown",
   "metadata": {
    "collapsed": true
   },
   "source": [
    "**TODO J HERE:** \n",
    "\n",
    "Fill out the missing parts below. "
   ]
  },
  {
   "cell_type": "code",
   "execution_count": null,
   "metadata": {},
   "outputs": [],
   "source": [
    "VECTORIZED_VERSION = False"
   ]
  },
  {
   "cell_type": "code",
   "execution_count": null,
   "metadata": {},
   "outputs": [],
   "source": [
    "def fitMixGauss(data, k):\n",
    "    \"\"\"\n",
    "    Estimate a k MoG model that would fit the data. Incremently plots the outcome.\n",
    "               \n",
    "    \n",
    "    Keyword arguments:\n",
    "    data -- d by n matrix containing data points.\n",
    "    k -- scalar representing the number of gaussians to use in the MoG model.\n",
    "    \n",
    "    Returns: \n",
    "    mixGaussEst -- dict containing the estimated MoG parameters.\n",
    "    \n",
    "    \"\"\"\n",
    "    \n",
    "    #     MAIN E-M ROUTINE  \n",
    "    #     In the E-M algorithm, we calculate a complete posterior distribution over                                  \n",
    "    #     the (nData) hidden variables in the E-Step.  \n",
    "    #     In the M-Step, we update the parameters of the Gaussians (mean, cov, w).   \n",
    "    \n",
    "    nDims, nData = data.shape\n",
    "\n",
    "\n",
    "    postHidden = np.zeros(shape=(k, nData))\n",
    "\n",
    "    # we will initialize the values to random values\n",
    "    mixGaussEst = dict()\n",
    "    mixGaussEst['d'] = nDims\n",
    "    mixGaussEst['k'] = k\n",
    "    mixGaussEst['weight'] = (1 / k) * np.ones(shape=(k))\n",
    "    mixGaussEst['mean'] = 2 * np.random.randn(nDims, k)\n",
    "    mixGaussEst['cov'] = np.zeros(shape=(nDims, nDims, k))\n",
    "    for cGauss in range(k):\n",
    "        mixGaussEst['cov'][:, :, cGauss] = 2.5 + 1.5 * np.random.uniform() * np.eye(nDims)\n",
    "        \n",
    "    \n",
    "    # calculate current likelihood\n",
    "    # TO DO (j) starts here - fill in this routine\n",
    "    \n",
    "    if (VECTORIZED_VERSION == False):\n",
    "        logLike = getMixGaussLogLike(data, mixGaussEst)\n",
    "    else:\n",
    "        logLike = log_likelihood_vectorized(data, mixGaussEst)\n",
    "    \n",
    "    print('Log Likelihood Before first iter : {:4.3f}\\n'.format(logLike))\n",
    "\n",
    "    nIter = 20\n",
    "\n",
    "    logLikeVec = np.zeros(shape=(2 * nIter))\n",
    "    boundVec = np.zeros(shape=(2 * nIter))\n",
    "\n",
    "    fig, ax = plt.subplots(1, 1)\n",
    "\n",
    "    for cIter in range(nIter):\n",
    "\n",
    "        # ===================== =====================\n",
    "        # Expectation step\n",
    "        # ===================== =====================\n",
    "        \n",
    "        # ===================== =====================\n",
    "        # Maximization Step\n",
    "        # ===================== =====================\n",
    "        \n",
    "        if (VECTORIZED_VERSION == False):\n",
    "            postHidden = E_step(postHidden,mixGaussEst,data)\n",
    "            mixGaussEst = M_step(k,mixGaussEst,postHidden,data)\n",
    "        else:\n",
    "            postHidden = E_step_vectorized(postHidden,mixGaussEst,data)\n",
    "            mixGaussEst = mixGaussEst = M_step_vectorized(postHidden,mixGaussEst,data)\n",
    "\n",
    "        # draw the new solution\n",
    "        drawEMData2d(data, mixGaussEst)\n",
    "        time.sleep(1)\n",
    "        fig.canvas.draw()\n",
    "\n",
    "        # calculate the log likelihood\n",
    "        if (VECTORIZED_VERSION == False):\n",
    "            logLike = getMixGaussLogLike(data, mixGaussEst)\n",
    "        else:\n",
    "            logLike = log_likelihood_vectorized(data, mixGaussEst)\n",
    "        \n",
    "        print('Log Likelihood After Iter {} : {:4.3f}\\n'.format(cIter, logLike))\n",
    "\n",
    "\n",
    "    return mixGaussEst"
   ]
  },
  {
   "cell_type": "markdown",
   "metadata": {},
   "source": [
    "### Time to put it all together!\n",
    "\n",
    "Make sure you've filled all the TO DOs above! "
   ]
  },
  {
   "cell_type": "code",
   "execution_count": null,
   "metadata": {
    "scrolled": true
   },
   "outputs": [],
   "source": [
    "#define number of components to estimate\n",
    "nGaussEst = 3\n",
    "\n",
    "#fit mixture of Gaussians (Pretend someone handed you some data. Now what?)\n",
    "#TO DO fill in this routine (below)\n",
    "mixGaussEst = fitMixGauss(data,nGaussEst);"
   ]
  }
 ],
 "metadata": {
  "kernelspec": {
   "display_name": "Python 3",
   "language": "python",
   "name": "python3"
  },
  "language_info": {
   "codemirror_mode": {
    "name": "ipython",
    "version": 3
   },
   "file_extension": ".py",
   "mimetype": "text/x-python",
   "name": "python",
   "nbconvert_exporter": "python",
   "pygments_lexer": "ipython3",
   "version": "3.7.3"
  }
 },
 "nbformat": 4,
 "nbformat_minor": 2
}
