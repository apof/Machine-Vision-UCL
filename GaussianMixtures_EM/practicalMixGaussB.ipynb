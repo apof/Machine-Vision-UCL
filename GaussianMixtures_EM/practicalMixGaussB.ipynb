{
 "cells": [
  {
   "cell_type": "markdown",
   "metadata": {},
   "source": [
    "# practicalMixGaussB\n",
    "\n",
    "The goal of this part of the lab is to fit a mixture of gaussians model to some one-dimensional data. To do this, we will first generate some data from a known mixture of gaussians model and fit our own mixture of gaussians model to the generated data. The parameters from our estimated mixture of gaussians model should roughly match those of the original known model. \n",
    "\n",
    "You should use this template for your code and fill in the missing \n",
    "sections marked \"TO DO.\"\n",
    "\n",
    "PLEASE NOTE (again): You should NOT be using functions like multivariate_normal.pdf and normfit or any other numpy functions for fitting your distributions in this or further parts of this practical. Optionally, you can try comparing your results to those produced by those functions, but our goal here is to learn what is happening!"
   ]
  },
  {
   "cell_type": "code",
   "execution_count": 1,
   "metadata": {},
   "outputs": [],
   "source": [
    "import os \n",
    "import numpy as np\n",
    "import matplotlib.pyplot as plt\n",
    "import scipy.io as spio\n",
    "from scipy.stats import norm\n",
    "import random\n",
    "import time\n",
    "\n",
    "%matplotlib inline"
   ]
  },
  {
   "cell_type": "markdown",
   "metadata": {},
   "source": [
    "## Construct Ground Truth Mixture of Gaussians Model and Plot Some Points\n",
    "\n",
    "Define some true parameters for our grounf truth mixture of $k$ Gaussians model. We will represent the mixtures of Gaussians as a python dictionary. Not that we are working in one dimension, but if we were to require $d$ dimenisions, the mean field would be a $d \\times k$ matrix and the cov field would be a $d \\times d \\times k$ matrix. "
   ]
  },
  {
   "cell_type": "code",
   "execution_count": 2,
   "metadata": {},
   "outputs": [
    {
     "name": "stdout",
     "output_type": "stream",
     "text": [
      "2\n",
      "1\n",
      "[0.3 0.7]\n",
      "[[-1.   1.5]]\n",
      "[[[0.5  0.25]]]\n"
     ]
    }
   ],
   "source": [
    "mixGaussTrue = dict()\n",
    "mixGaussTrue['k'] = 2 # number of gaussians\n",
    "mixGaussTrue['d'] = 1 # dimension of the data\n",
    "mixGaussTrue['weight'] = np.array([0.3, 0.7]) # weight assigned to each gaussian\n",
    "mixGaussTrue['mean'] = np.array([[-1,1.5]]) # the mean for each gaussian \n",
    "mixGaussTrue['cov'] = np.reshape([0.5, 0.25], newshape=(1,1,2)) # the covariance for each gaussian\n",
    "\n",
    "print(mixGaussTrue['k'])\n",
    "print(mixGaussTrue['d'])\n",
    "print(mixGaussTrue['weight'])\n",
    "print(mixGaussTrue['mean'])\n",
    "print(mixGaussTrue['cov'])"
   ]
  },
  {
   "cell_type": "markdown",
   "metadata": {},
   "source": [
    "\n",
    "\n"
   ]
  },
  {
   "cell_type": "markdown",
   "metadata": {},
   "source": [
    "**getGaussProb**, **sampleFromDiscrete**, and **drawEMData1d** are helper functions. "
   ]
  },
  {
   "cell_type": "code",
   "execution_count": 3,
   "metadata": {},
   "outputs": [],
   "source": [
    "# subroutine to return gaussian probabilities\n",
    "def getGaussProb(x,mean,var):   \n",
    "    \"\"\"\n",
    "    Returns the likelihood that each data point in x belongs to the Gaussian described by mean and \n",
    "    var.\n",
    "    \n",
    "    Keyword arguments:\n",
    "    x -- 1 by n vector of data points. n is the number of data points.\n",
    "    mean -- scalar containing the mean parameter of the Gaussian distribution.\n",
    "    var -- scalar containing the variance parameter of the Gaussian distribution.\n",
    "    \n",
    "    Returns: \n",
    "    prob -- scalar contianing the likelihood that each data point in data belongs to the Gaussian \n",
    "    distribution defined by mean and var.\n",
    "    \"\"\"\n",
    "    mean = np.squeeze(mean)                                        \n",
    "    var = np.squeeze(var)                                          \n",
    "    prob = np.exp(-0.5*((x-mean)**2)/(var))                        \n",
    "    prob = prob/ np.sqrt(2*np.pi*var)                              \n",
    "    return prob                                                    "
   ]
  },
  {
   "cell_type": "code",
   "execution_count": 4,
   "metadata": {
    "scrolled": true
   },
   "outputs": [],
   "source": [
    "def sampleFromDiscrete(probDist): \n",
    "    \"\"\"\n",
    "    Draws a random sample from a discrete probability distribution using a rejection sampling method.  \n",
    "    \n",
    "    Keyword arguments:\n",
    "    probDist -- discrete probability ditrubtion to sample from.\n",
    "    \n",
    "    Returns: \n",
    "    r -- sampled point.\n",
    "    \"\"\"\n",
    "\n",
    "    nIndex = len(probDist)                                                                 \n",
    "    while True:                                                                            \n",
    "        #choose random index                                                               \n",
    "        r=int(np.floor(np.random.uniform()*nIndex))                                        \n",
    "        #choose random height                                                              \n",
    "        randHeight = np.random.uniform()                                                   \n",
    "        #if height is less than probability value at this point in the                     \n",
    "        # histogram then select                                                            \n",
    "        if randHeight<probDist[r]:                                                         \n",
    "            break                                                                          \n",
    "    return r                                                                               "
   ]
  },
  {
   "cell_type": "code",
   "execution_count": 5,
   "metadata": {},
   "outputs": [],
   "source": [
    "def drawEMData1d(data, mixGauss):\n",
    "    \"\"\"\n",
    "    Draw the data, data, in histogram form and plot the mixtures of Gaussian model, mixGauss, on top of it.\n",
    "    \n",
    "    Keyword arguments:\n",
    "    data -- 1 by n vector of data points.\n",
    "    mixGauss -- dict with mixture of gaussian information.\n",
    "\n",
    "    \"\"\"\n",
    "    # delete previous plot if it exists                                                                   \n",
    "    # hold off;                                                                                           \n",
    "    # bin the data to make a histogram                                                                    \n",
    "                                                                                                          \n",
    "    binWidth = 0.1;                                                                                       \n",
    "    binMin = -4.0;                                                                                        \n",
    "    binMax = 4.0;                                                                                         \n",
    "    nSteps = int(np.ceil((binMax - binMin) / binWidth))                                                   \n",
    "                                                                                                          \n",
    "    nDims, nData = data.shape                                                                             \n",
    "                                                                                                          \n",
    "    xHist = np.linspace(binMin, binMax, nSteps, endpoint=True)                                            \n",
    "    xHistExt = np.append(xHist, np.inf)                                                                   \n",
    "    yHist, _ = np.histogram(data, xHistExt)                                     \n",
    "                                                                                                          \n",
    "    yHist = yHist / (nData * binWidth)                                                                    \n",
    "    plt.cla()                                                                                     \n",
    "    plt.bar(xHist, yHist, binWidth, edgecolor='b')                                                        \n",
    "                                                                                                          \n",
    "    # calculate Gaussian data                                                                             \n",
    "    nGauss = mixGauss['k']                                                                                \n",
    "    gaussEnvEst = np.zeros(xHist.shape)                                                                   \n",
    "    for cGauss in range(nGauss):                                                                          \n",
    "        # calculate weighted Gaussian values                                                              \n",
    "        gaussProb = mixGauss['weight'][cGauss] * getGaussProb(xHist, mixGauss['mean'][:,cGauss],          \n",
    "                                                              mixGauss['cov'][:, :, cGauss])              \n",
    "        plt.plot(xHist, gaussProb, 'm-')  # weighted components of MoG                                    \n",
    "        # add to form envelope                                                                            \n",
    "        gaussEnvEst = gaussEnvEst + gaussProb                                                             \n",
    "                                                                                                          \n",
    "    plt.plot(xHist, gaussEnvEst, 'g-')  # final mixture of Gaussians                                      \n",
    "                                                                                                          \n",
    "    # tidy up plot                                                                                        \n",
    "    plt.xlabel('Data Value')                                                                              \n",
    "    plt.ylabel('Probability Density')                                                                     \n",
    "    # set(gca,'Box','Off');                                                                               \n",
    "    # set(gcf,'Color',[1 1 1]);                                                                           \n",
    "    plt.xlim((binMin, binMax))                                                                            \n",
    "    plt.ylim((0, max(yHist) * 1.5))                                                                       \n",
    "                                                                                                          \n",
    "    return                                                                                                \n",
    "    "
   ]
  },
  {
   "cell_type": "markdown",
   "metadata": {},
   "source": [
    "**TODO D HERE:**\n",
    "\n",
    "Complete the TO DO in this function before moving on. \n",
    "\n"
   ]
  },
  {
   "cell_type": "code",
   "execution_count": 6,
   "metadata": {},
   "outputs": [],
   "source": [
    "def mixGaussGen1d(mixGauss, nData):  \n",
    "    \"\"\"\n",
    "    Generates data from a one-dimensional mixture of Gaussians model. \n",
    "    \n",
    "    Keyword arguments:\n",
    "    mixGauss -- dict containing the mixture of gaussians arguments.\n",
    "    nData -- number of data points to generate.\n",
    "    \n",
    "    Returns: \n",
    "    data -- 1 by nData, generated data points. \n",
    "    \"\"\"\n",
    "    \n",
    "    # create space for output data                                                                               \n",
    "    data = np.zeros(shape=(1, nData))                                                                            \n",
    "    # for each data point                                                                                        \n",
    "    for cData in range(nData):\n",
    "        \n",
    "        # randomly choose Gaussian according to probability distributions                                        \n",
    "        h = sampleFromDiscrete(mixGauss['weight'])\n",
    "        \n",
    "        # draw a sample from the appropriate Gaussian distribution \n",
    "\n",
    "        \n",
    "        sample = np.random.normal(mixGauss.get('mean')[0][h], mixGauss.get('cov')[0][0][h],1)\n",
    "        #print(sample)\n",
    "            \n",
    "        # TO DO (d)- replace this \n",
    "        data[:, cData] = sample\n",
    "        \n",
    "                                                                                                         \n",
    "    return data                                                                                                  "
   ]
  },
  {
   "cell_type": "markdown",
   "metadata": {},
   "source": [
    "With all the helper functions complete, we can now generate and plot some points from our model. The blue bars are the histogram of the generated points. The green curve is what the complete mixture of gaussians model looks like. The pink curves are the component gaussians. "
   ]
  },
  {
   "cell_type": "code",
   "execution_count": 7,
   "metadata": {},
   "outputs": [
    {
     "data": {
      "image/png": "[encoded data removed]",
      "text/plain": [
       "<Figure size 432x288 with 1 Axes>"
      ]
     },
     "metadata": {
      "needs_background": "light"
     },
     "output_type": "display_data"
    }
   ],
   "source": [
    "# define number of samples to generate\n",
    "nData = 400;\n",
    "\n",
    "#generate data from the mixture of Gaussians\n",
    "#make sure you've filled out the todo above! \n",
    "data = mixGaussGen1d(mixGaussTrue,nData)\n",
    "\n",
    "#print(data)\n",
    "\n",
    "#plot! \n",
    "fig,ax = plt.subplots(1,1)\n",
    "drawEMData1d(data,mixGaussTrue)"
   ]
  },
  {
   "cell_type": "markdown",
   "metadata": {},
   "source": [
    "## Estimate MoG using the E-M Algorithm\n",
    "Here we want to use the E-M algorithm to fit a MoG model to our data points. \n",
    "\n",
    "**TODO E HERE:** \n",
    "\n",
    "Fill out the missing parts below. "
   ]
  },
  {
   "cell_type": "code",
   "execution_count": 8,
   "metadata": {},
   "outputs": [],
   "source": [
    "def getMixGaussBound(data, mixGaussEst, responsibilities):                                                  \n",
    "    \"\"\"\n",
    "    Calculate the bound on the log likelihood for the whole data set under a mixture of Gaussians model.  \n",
    "    \n",
    "    Keyword arguments:\n",
    "    data -- d by n matrix containing data points.\n",
    "    mixGaussEst -- dict containing the mixture of gaussians parameters.\n",
    "    responsibilities -- k by n vector containing the responsibility of this data point for each Gaussian. \n",
    "    \n",
    "    Returns: \n",
    "    bound -- scalar containing the bound on the log likelihood.\n",
    "    \n",
    "    \"\"\"\n",
    "    # find total number of data items                                                                       \n",
    "    nDims, nData = data.shape                                                                               \n",
    "                                                                                                            \n",
    "    # initialize bound                                                                                      \n",
    "    bound = 0                                                                                               \n",
    "    \n",
    "        \n",
    "    i = -1\n",
    "    # run through each data item                                                                            \n",
    "    for cData in range(data.shape[1]):\n",
    "        i += 1\n",
    "        # extract this data                                                                                 \n",
    "        thisData = data[:, cData]\n",
    "        \n",
    "        # extract this q(h)                                                                                 \n",
    "        thisQ = responsibilities[:, cData]                                                                  \n",
    "                                                                                                            \n",
    "        # TO DO (e) - calculate contribution to bound of this datapoint                                         \n",
    "        # Replace this                                                                                      \n",
    "        boundValue = 0\n",
    "        \n",
    "        for k in range(0,mixGaussEst.get('k')):\n",
    "            \n",
    "            l = mixGaussEst.get('weight')[k]\n",
    "            norm = getGaussProb(thisData,mixGaussEst.get('mean')[0][k],mixGaussEst.get('cov')[0][0][k])[0]\n",
    "            #r = responsibilities[k][i]\n",
    "            r = thisQ[k]\n",
    "            boundValue += r*np.log((l*norm)/r)\n",
    "            \n",
    "        # add to total log like                                                                             \n",
    "        bound = bound + boundValue\n",
    "                                                                                                            \n",
    "    return np.asscalar(np.array(bound))                                                                          "
   ]
  },
  {
   "cell_type": "markdown",
   "metadata": {},
   "source": [
    "**TODO F HERE:** \n",
    "\n",
    "Fill out the missing parts below. \n",
    "\n",
    "The log likelihood is taken since the raw likelihood value could be too small for our machine's percision. "
   ]
  },
  {
   "cell_type": "code",
   "execution_count": 9,
   "metadata": {},
   "outputs": [],
   "source": [
    "def getMixGaussLogLike(data, mixGaussEst):\n",
    "    \"\"\"\n",
    "    Calculate the log likelihood for the whole dataset under a mixture of Gaussians model.\n",
    "    \n",
    "    Keyword arguments:\n",
    "    data -- d by n matrix containing data points.\n",
    "    mixGaussEst -- dict containing the mixture of gaussians parameters.\n",
    "\n",
    "    Returns: \n",
    "    logLike -- scalar containing the log likelihood.\n",
    "    \n",
    "    \"\"\"\n",
    "    \n",
    "    data = np.atleast_2d(data)                                                                                                                                             \n",
    "    \n",
    "    # initialize log likelihoods                                                                       \n",
    "    logLike = 0;                                                                                       \n",
    "                                                                                                       \n",
    "    # run through each data item                                                                       \n",
    "    for cData in range(data.shape[1]):\n",
    "        \n",
    "        thisData = data[:, cData]    \n",
    "        \n",
    "        # TO DO (f) - calculate likelihood of this data point under mixture of                         \n",
    "        # Gaussians model. Replace this                                                                \n",
    "        like = 0\n",
    "        for k in range(0,mixGaussEst.get('k')):\n",
    "            l = mixGaussEst.get('weight')[k]\n",
    "            norm = getGaussProb(thisData,mixGaussEst.get('mean')[0][k],mixGaussEst.get('cov')[0][0][k])[0]\n",
    "            like += l*norm   \n",
    "        # add to total log like                                                                        \n",
    "        logLike = logLike + np.log(like)                                                               \n",
    "                                                                                                       \n",
    "    return  np.asscalar(np.array(logLike))                                                                       \n",
    "                                                                                                       "
   ]
  },
  {
   "cell_type": "code",
   "execution_count": 10,
   "metadata": {},
   "outputs": [],
   "source": [
    "def E_step(responsibilities,mixGaussEst,data):\n",
    "    \n",
    "    curCov = mixGaussEst['cov']                                                                             \n",
    "    curWeight = mixGaussEst['weight']                                                                            \n",
    "    curMean = mixGaussEst['mean']\n",
    "    \n",
    "    l = np.zeros((mixGaussEst.get('k'),data.shape[1]),dtype=np.float64)\n",
    "    r = np.zeros((mixGaussEst.get('k'),data.shape[1]),dtype=np.float64)\n",
    "    \n",
    "    #print(\"Created Responsibilities shape: \" + str(r.shape))\n",
    "    \n",
    "    #print(l.shape)\n",
    "    #print(r.shape)\n",
    "    \n",
    "    # TO DO: fill in column of 'hidden' - caculate posterior probability that                                \n",
    "    # this data point came from each of the Gaussians                                                        \n",
    "    # replace this:\n",
    "    \n",
    "    i = -1\n",
    "    for cData in range(data.shape[1]):\n",
    "        i += 1\n",
    "        \n",
    "        thisData = data[:, cData] \n",
    "        \n",
    "        sum_l = 0\n",
    "        for k in range(0,mixGaussEst.get('k')):\n",
    "            \n",
    "            norm = getGaussProb(thisData,mixGaussEst.get('mean')[0][k],mixGaussEst.get('cov')[0][0][k])\n",
    "            ll = mixGaussEst.get('weight')[k]*norm\n",
    "            l[k][i] = ll[0]\n",
    "            sum_l += l[k][i]\n",
    "        \n",
    "        for k in range(0,mixGaussEst.get('k')):\n",
    "            r[k][i] = l[k][i]/sum_l\n",
    "                                                                                                \n",
    "    return r"
   ]
  },
  {
   "cell_type": "code",
   "execution_count": 11,
   "metadata": {},
   "outputs": [],
   "source": [
    "def M_step(k,mixGaussEst,responsibilities,data):\n",
    "    \n",
    "    #print(mixGaussEst)\n",
    "    \n",
    "    # ===================== =====================                                                                \n",
    "    # Maximization Step                                                                                          \n",
    "    # ===================== =====================  \n",
    "    \n",
    "    #new_weights = np.zeros(mixGaussEst.get('weight').shape[0],dtype=np.float64)\n",
    "    #mew_mean = np.zeros(mixGaussEst.get('mean')[:].shape,dtype=np.float64)\n",
    "    #new_cov = np.zeros(mixGaussEst.get('cov')[:][:].shape,dtype=np.float64)\n",
    "    \n",
    "    #print(new_weights)\n",
    "    #print(mew_mean)\n",
    "    #print(new_cov)\n",
    "    \n",
    "    # for each latent variable refered to each Gaussian                                                                              \n",
    "    for cGauss in range(k):\n",
    "        \n",
    "        r = 0\n",
    "        for i in range(data.shape[1]):\n",
    "            r += responsibilities[cGauss][i]\n",
    "            \n",
    "            \n",
    "        # TO DO:  Update weighting parameters mixGauss.weight based on the total                                 \n",
    "        # posterior probability associated with each Gaussian. Replace this:                                         \n",
    "        \n",
    "    \n",
    "        sum_l = 0\n",
    "        for kk in range(k):\n",
    "            for ii in range(data.shape[1]):\n",
    "                sum_l += responsibilities[kk][ii]\n",
    "                    \n",
    "                    \n",
    "        #new_weights[cGauss] = sum_l\n",
    "        \n",
    "        #print(sum_l)\n",
    "        \n",
    "        mixGaussEst['weight'][cGauss] = r/sum_l\n",
    "                    \n",
    "            \n",
    "        # TO DO:  Update mean parameters mixGauss.mean by weighted average                                       \n",
    "        # where weights are given by posterior probability associated with                                       \n",
    "        # Gaussian. \n",
    "        \n",
    "        i = -1\n",
    "        sum_m = 0\n",
    "        for cData in range(data.shape[1]):\n",
    "            i += 1\n",
    "            \n",
    "            thisData = data[:, cData]\n",
    "            sum_m += (responsibilities[cGauss][i]*thisData)      \n",
    "            \n",
    "        #mew_mean[0][cGauss] = sum_m\n",
    "        \n",
    "        #print(sum_m)\n",
    "        \n",
    "        mixGaussEst['mean'][:,cGauss] = sum_m/r\n",
    "        \n",
    "            \n",
    "            \n",
    "        # TO DO:  Update covarance parameter based on weighted average of                                        \n",
    "        # square distance from update mean, where weights are given by                                           \n",
    "        # posterior probability associated with Gaussian\n",
    "        \n",
    "        \n",
    "        i = -1\n",
    "        sum_s = 0\n",
    "        for cData in range(data.shape[1]):\n",
    "            i += 1\n",
    "            \n",
    "            thisData = data[:, cData]\n",
    "            \n",
    "            new_mean = mixGaussEst['mean'][:,cGauss]\n",
    "            \n",
    "            mu_matrix = (thisData - new_mean)**2\n",
    "            sum_s += (responsibilities[cGauss][i]*mu_matrix)\n",
    "        \n",
    "        mixGaussEst['cov'][:,:,cGauss] = sum_s/r\n",
    "            \n",
    "    return mixGaussEst"
   ]
  },
  {
   "cell_type": "markdown",
   "metadata": {},
   "source": [
    "**TODO G HERE:** \n",
    "\n",
    "Fill out the missing parts below. "
   ]
  },
  {
   "cell_type": "code",
   "execution_count": 12,
   "metadata": {},
   "outputs": [],
   "source": [
    "def fitMixGauss1d(data, k):\n",
    "    \n",
    "    #print(data.shape)\n",
    "    #print(k)\n",
    "    #return\n",
    "\n",
    "    \"\"\"\n",
    "    Estimate a k MoG model that would fit the data. Incremently plots the outcome.\n",
    "               \n",
    "    \n",
    "    Keyword arguments:\n",
    "    data -- d by n matrix containing data points.\n",
    "    k -- scalar representing the number of gaussians to use in the MoG model.\n",
    "    \n",
    "    Returns: \n",
    "    mixGaussEst -- dict containing the estimated MoG parameters.\n",
    "    \n",
    "    \"\"\"\n",
    "    #     MAIN E-M ROUTINE  \n",
    "    #     In the E-M algorithm, we calculate a complete posterior distribution over                                  \n",
    "    #     the (nData) hidden variables in the E-Step.  \n",
    "    #     In the M-Step, we update the parameters of the Gaussians (mean, cov, w).   \n",
    "    \n",
    "    nDims, nData = data.shape                                                                                        \n",
    "                                                                                                                     \n",
    "                                                                                                      \n",
    "    responsibilities = np.zeros(shape=(k, nData))\n",
    "                                                                                                                     \n",
    "    # we will initialize the values to random values                                                                 \n",
    "    mixGaussEst = dict()                                                                                             \n",
    "    mixGaussEst['d'] = 1                                                                                             \n",
    "    mixGaussEst['k'] = k                                                                                             \n",
    "    mixGaussEst['weight'] = (1 / k) * np.ones(shape=(k))                                                             \n",
    "    mixGaussEst['mean'] = 2 * np.random.randn(1, k)                                                                  \n",
    "    mixGaussEst['cov'] = 0.1 + 1.5*np.random.uniform(size=(1,1,2))\n",
    "    \n",
    "    print(\"Initial Parameters: \" + str(mixGaussEst))\n",
    "    \n",
    "    \n",
    "    #print(responsibilities.shape)\n",
    "    #return \n",
    "\n",
    "    # calculate current likelihood                                                                                   \n",
    "    # TO DO (g) starts here- fill in this routine                                                                                   \n",
    "    logLike = getMixGaussLogLike(data, mixGaussEst)                                                                  \n",
    "    print('Log Likelihood Iter 0 : {:4.3f}\\n'.format(logLike))\n",
    "                                                                                                            \n",
    "    nIter = 20;                                                                                                      \n",
    "                                                                                                                     \n",
    "    logLikeVec = np.zeros(shape=(2 * nIter))                                                                         \n",
    "    boundVec = np.zeros(shape=(2 * nIter)) \n",
    "    \n",
    "    fig,ax = plt.subplots(1,1)\n",
    "                                                                                                                     \n",
    "    for cIter in range(nIter):                                                                                       \n",
    "                                                                                                                     \n",
    "        # ===================== =====================                                                                \n",
    "        # Expectation step                                                                                           \n",
    "        # ===================== =====================\n",
    "        \n",
    "        #print(\"Responsibilities before: \" + str(responsibilities.shape))\n",
    "        #print(responsibilities)\n",
    "        responsibilities = E_step(responsibilities,mixGaussEst,data)\n",
    "        #print(\"Responsibilities after: \" + str(responsibilities.shape))\n",
    "        #print(responsibilities)\n",
    "        \n",
    "        #return\n",
    "        \n",
    "        #print(data)\n",
    "        #print(mixGaussEst)\n",
    "\n",
    "        # calculate the log likelihood                                                                               \n",
    "        logLike = getMixGaussLogLike(data, mixGaussEst)                                                              \n",
    "        print('Log Likelihood After E-Step Iter {} : {:4.3f}\\n'.format(cIter, logLike))                              \n",
    "                                                                                                                     \n",
    "        # calculate the bound                                                                                        \n",
    "        # TO DO - Fill in this routine                                                                               \n",
    "        bound = getMixGaussBound(data, mixGaussEst, responsibilities)                                                \n",
    "        print('Bound After E-Step Iter {} : {:4.3f}\\n'.format(cIter, bound))\n",
    "        \n",
    "        logLikeVec[2 * cIter] = logLike                                                                              \n",
    "        boundVec[2 * cIter] = bound\n",
    "        \n",
    "        ### maximisation step\n",
    "        ## update distributions based on the new responsibilities\n",
    "        \n",
    "        mixGaussEst = M_step(k,mixGaussEst,responsibilities,data)\n",
    "        \n",
    "        \n",
    "        print(mixGaussEst)\n",
    "        \n",
    "                                                                                                              \n",
    "        # draw the new solution  \n",
    "        drawEMData1d(data, mixGaussEst)\n",
    "        time.sleep(3)\n",
    "        fig.canvas.draw()\n",
    "                                                                                                                     \n",
    "        # calculate the log likelihood                                                                               \n",
    "        logLike = getMixGaussLogLike(data, mixGaussEst)                                                              \n",
    "        print('Log Likelihood After M-Step Iter {} : {:4.3f}\\n'.format(cIter, logLike))                              \n",
    "                                                                                                                     \n",
    "        # calculate the bound                                                                                        \n",
    "        bound = getMixGaussBound(data, mixGaussEst, responsibilities)                                                \n",
    "        print('Bound After M-Step Iter {} : {:4.3f}\\n'.format(cIter, bound)) \n",
    "                                                                                                                  \n",
    "        logLikeVec[2 * cIter + 1] = logLike                                                                          \n",
    "        boundVec[2 * cIter + 1] = bound\n",
    "        \n",
    "        #return\n",
    "                                                                                                                     \n",
    "    plt.figure()                                                                                                     \n",
    "    plt.plot(logLikeVec, 'g',label='log likelihood')                                                                                        \n",
    "    plt.plot(boundVec, 'r',label='upper bound')  \n",
    "    plt.legend()\n",
    "                                                                                                                     \n",
    "    return mixGaussEst                                                                                               "
   ]
  },
  {
   "cell_type": "markdown",
   "metadata": {},
   "source": [
    "### Time to put it all together!\n",
    "\n",
    "Make sure you've filled all the TO DOs above! "
   ]
  },
  {
   "cell_type": "code",
   "execution_count": 13,
   "metadata": {},
   "outputs": [
    {
     "name": "stdout",
     "output_type": "stream",
     "text": [
      "Initial Parameters: {'d': 1, 'k': 2, 'weight': array([0.5, 0.5]), 'mean': array([[3.94886892, 1.52197327]]), 'cov': array([[[1.27864805, 0.39278868]]])}\n",
      "Log Likelihood Iter 0 : -1442.190\n",
      "\n",
      "Log Likelihood After E-Step Iter 0 : -1442.190\n",
      "\n",
      "Bound After E-Step Iter 0 : -1442.190\n",
      "\n",
      "{'d': 1, 'k': 2, 'weight': array([0.09932632, 0.90067368]), 'mean': array([[-0.17180498,  0.84492183]]), 'cov': array([[[2.48698173, 1.20548006]]])}\n"
     ]
    },
    {
     "name": "stderr",
     "output_type": "stream",
     "text": [
      "/home/apostolos/miniconda3/lib/python3.7/site-packages/ipykernel_launcher.py:34: DeprecationWarning: np.asscalar(a) is deprecated since NumPy v1.16, use a.item() instead\n",
      "/home/apostolos/miniconda3/lib/python3.7/site-packages/ipykernel_launcher.py:46: DeprecationWarning: np.asscalar(a) is deprecated since NumPy v1.16, use a.item() instead\n",
      "/home/apostolos/miniconda3/lib/python3.7/site-packages/ipykernel_launcher.py:34: DeprecationWarning: np.asscalar(a) is deprecated since NumPy v1.16, use a.item() instead\n",
      "/home/apostolos/miniconda3/lib/python3.7/site-packages/ipykernel_launcher.py:46: DeprecationWarning: np.asscalar(a) is deprecated since NumPy v1.16, use a.item() instead\n"
     ]
    },
    {
     "name": "stdout",
     "output_type": "stream",
     "text": [
      "Log Likelihood After M-Step Iter 0 : -636.139\n",
      "\n",
      "Bound After M-Step Iter 0 : -644.079\n",
      "\n",
      "Log Likelihood After E-Step Iter 1 : -636.139\n",
      "\n",
      "Bound After E-Step Iter 1 : -636.139\n",
      "\n",
      "{'d': 1, 'k': 2, 'weight': array([0.10711198, 0.89288802]), 'mean': array([[-0.32648726,  0.8723432 ]]), 'cov': array([[[1.80054065, 1.22628368]]])}\n"
     ]
    },
    {
     "name": "stderr",
     "output_type": "stream",
     "text": [
      "/home/apostolos/miniconda3/lib/python3.7/site-packages/ipykernel_launcher.py:34: DeprecationWarning: np.asscalar(a) is deprecated since NumPy v1.16, use a.item() instead\n",
      "/home/apostolos/miniconda3/lib/python3.7/site-packages/ipykernel_launcher.py:46: DeprecationWarning: np.asscalar(a) is deprecated since NumPy v1.16, use a.item() instead\n"
     ]
    },
    {
     "name": "stdout",
     "output_type": "stream",
     "text": [
      "Log Likelihood After M-Step Iter 1 : -633.768\n",
      "\n",
      "Bound After M-Step Iter 1 : -634.657\n",
      "\n",
      "Log Likelihood After E-Step Iter 2 : -633.768\n",
      "\n",
      "Bound After E-Step Iter 2 : -633.768\n",
      "\n",
      "{'d': 1, 'k': 2, 'weight': array([0.11718255, 0.88281745]), 'mean': array([[-0.48082269,  0.90650465]]), 'cov': array([[[1.5723574 , 1.18017953]]])}\n"
     ]
    },
    {
     "name": "stderr",
     "output_type": "stream",
     "text": [
      "/home/apostolos/miniconda3/lib/python3.7/site-packages/ipykernel_launcher.py:34: DeprecationWarning: np.asscalar(a) is deprecated since NumPy v1.16, use a.item() instead\n",
      "/home/apostolos/miniconda3/lib/python3.7/site-packages/ipykernel_launcher.py:46: DeprecationWarning: np.asscalar(a) is deprecated since NumPy v1.16, use a.item() instead\n"
     ]
    },
    {
     "name": "stdout",
     "output_type": "stream",
     "text": [
      "Log Likelihood After M-Step Iter 2 : -631.397\n",
      "\n",
      "Bound After M-Step Iter 2 : -632.750\n",
      "\n",
      "Log Likelihood After E-Step Iter 3 : -631.397\n",
      "\n",
      "Bound After E-Step Iter 3 : -631.397\n",
      "\n",
      "{'d': 1, 'k': 2, 'weight': array([0.13077634, 0.86922366]), 'mean': array([[-0.6530516 ,  0.95411323]]), 'cov': array([[[1.32361407, 1.10274343]]])}\n"
     ]
    },
    {
     "name": "stderr",
     "output_type": "stream",
     "text": [
      "/home/apostolos/miniconda3/lib/python3.7/site-packages/ipykernel_launcher.py:34: DeprecationWarning: np.asscalar(a) is deprecated since NumPy v1.16, use a.item() instead\n",
      "/home/apostolos/miniconda3/lib/python3.7/site-packages/ipykernel_launcher.py:46: DeprecationWarning: np.asscalar(a) is deprecated since NumPy v1.16, use a.item() instead\n"
     ]
    },
    {
     "name": "stdout",
     "output_type": "stream",
     "text": [
      "Log Likelihood After M-Step Iter 3 : -626.625\n",
      "\n",
      "Bound After M-Step Iter 3 : -629.466\n",
      "\n",
      "Log Likelihood After E-Step Iter 4 : -626.625\n",
      "\n",
      "Bound After E-Step Iter 4 : -626.625\n",
      "\n",
      "{'d': 1, 'k': 2, 'weight': array([0.15034349, 0.84965651]), 'mean': array([[-0.84311226,  1.02475591]]), 'cov': array([[[0.9749338 , 0.98038811]]])}\n"
     ]
    },
    {
     "name": "stderr",
     "output_type": "stream",
     "text": [
      "/home/apostolos/miniconda3/lib/python3.7/site-packages/ipykernel_launcher.py:34: DeprecationWarning: np.asscalar(a) is deprecated since NumPy v1.16, use a.item() instead\n",
      "/home/apostolos/miniconda3/lib/python3.7/site-packages/ipykernel_launcher.py:46: DeprecationWarning: np.asscalar(a) is deprecated since NumPy v1.16, use a.item() instead\n"
     ]
    },
    {
     "name": "stdout",
     "output_type": "stream",
     "text": [
      "Log Likelihood After M-Step Iter 4 : -614.589\n",
      "\n",
      "Bound After M-Step Iter 4 : -621.985\n",
      "\n",
      "Log Likelihood After E-Step Iter 5 : -614.589\n",
      "\n",
      "Bound After E-Step Iter 5 : -614.589\n",
      "\n",
      "{'d': 1, 'k': 2, 'weight': array([0.18043956, 0.81956044]), 'mean': array([[-1.0285471 ,  1.13417466]]), 'cov': array([[[0.53118463, 0.77810556]]])}\n"
     ]
    },
    {
     "name": "stderr",
     "output_type": "stream",
     "text": [
      "/home/apostolos/miniconda3/lib/python3.7/site-packages/ipykernel_launcher.py:34: DeprecationWarning: np.asscalar(a) is deprecated since NumPy v1.16, use a.item() instead\n",
      "/home/apostolos/miniconda3/lib/python3.7/site-packages/ipykernel_launcher.py:46: DeprecationWarning: np.asscalar(a) is deprecated since NumPy v1.16, use a.item() instead\n"
     ]
    },
    {
     "name": "stdout",
     "output_type": "stream",
     "text": [
      "Log Likelihood After M-Step Iter 5 : -579.738\n",
      "\n",
      "Bound After M-Step Iter 5 : -600.420\n",
      "\n",
      "Log Likelihood After E-Step Iter 6 : -579.738\n",
      "\n",
      "Bound After E-Step Iter 6 : -579.738\n",
      "\n",
      "{'d': 1, 'k': 2, 'weight': array([0.22769137, 0.77230863]), 'mean': array([[-1.10486054,  1.28899415]]), 'cov': array([[[0.23963709, 0.46999076]]])}\n"
     ]
    },
    {
     "name": "stderr",
     "output_type": "stream",
     "text": [
      "/home/apostolos/miniconda3/lib/python3.7/site-packages/ipykernel_launcher.py:34: DeprecationWarning: np.asscalar(a) is deprecated since NumPy v1.16, use a.item() instead\n",
      "/home/apostolos/miniconda3/lib/python3.7/site-packages/ipykernel_launcher.py:46: DeprecationWarning: np.asscalar(a) is deprecated since NumPy v1.16, use a.item() instead\n"
     ]
    },
    {
     "name": "stdout",
     "output_type": "stream",
     "text": [
      "Log Likelihood After M-Step Iter 6 : -512.507\n",
      "\n",
      "Bound After M-Step Iter 6 : -543.681\n",
      "\n",
      "Log Likelihood After E-Step Iter 7 : -512.507\n",
      "\n",
      "Bound After E-Step Iter 7 : -512.507\n",
      "\n",
      "{'d': 1, 'k': 2, 'weight': array([0.27508172, 0.72491828]), 'mean': array([[-1.05083563,  1.4249879 ]]), 'cov': array([[[0.21995652, 0.19644222]]])}\n"
     ]
    },
    {
     "name": "stderr",
     "output_type": "stream",
     "text": [
      "/home/apostolos/miniconda3/lib/python3.7/site-packages/ipykernel_launcher.py:34: DeprecationWarning: np.asscalar(a) is deprecated since NumPy v1.16, use a.item() instead\n",
      "/home/apostolos/miniconda3/lib/python3.7/site-packages/ipykernel_launcher.py:46: DeprecationWarning: np.asscalar(a) is deprecated since NumPy v1.16, use a.item() instead\n"
     ]
    },
    {
     "name": "stdout",
     "output_type": "stream",
     "text": [
      "Log Likelihood After M-Step Iter 7 : -419.521\n",
      "\n",
      "Bound After M-Step Iter 7 : -461.402\n",
      "\n",
      "Log Likelihood After E-Step Iter 8 : -419.521\n",
      "\n",
      "Bound After E-Step Iter 8 : -419.521\n",
      "\n",
      "{'d': 1, 'k': 2, 'weight': array([0.30416417, 0.69583583]), 'mean': array([[-0.97873183,  1.49694685]]), 'cov': array([[[0.25423457, 0.07290062]]])}\n"
     ]
    },
    {
     "name": "stderr",
     "output_type": "stream",
     "text": [
      "/home/apostolos/miniconda3/lib/python3.7/site-packages/ipykernel_launcher.py:34: DeprecationWarning: np.asscalar(a) is deprecated since NumPy v1.16, use a.item() instead\n",
      "/home/apostolos/miniconda3/lib/python3.7/site-packages/ipykernel_launcher.py:46: DeprecationWarning: np.asscalar(a) is deprecated since NumPy v1.16, use a.item() instead\n"
     ]
    },
    {
     "name": "stdout",
     "output_type": "stream",
     "text": [
      "Log Likelihood After M-Step Iter 8 : -347.564\n",
      "\n",
      "Bound After M-Step Iter 8 : -362.483\n",
      "\n",
      "Log Likelihood After E-Step Iter 9 : -347.564\n",
      "\n",
      "Bound After E-Step Iter 9 : -347.564\n",
      "\n",
      "{'d': 1, 'k': 2, 'weight': array([0.30999662, 0.69000338]), 'mean': array([[-0.95666583,  1.50795969]]), 'cov': array([[[0.2754466 , 0.05877644]]])}\n"
     ]
    },
    {
     "name": "stderr",
     "output_type": "stream",
     "text": [
      "/home/apostolos/miniconda3/lib/python3.7/site-packages/ipykernel_launcher.py:34: DeprecationWarning: np.asscalar(a) is deprecated since NumPy v1.16, use a.item() instead\n",
      "/home/apostolos/miniconda3/lib/python3.7/site-packages/ipykernel_launcher.py:46: DeprecationWarning: np.asscalar(a) is deprecated since NumPy v1.16, use a.item() instead\n"
     ]
    },
    {
     "name": "stdout",
     "output_type": "stream",
     "text": [
      "Log Likelihood After M-Step Iter 9 : -343.958\n",
      "\n",
      "Bound After M-Step Iter 9 : -343.996\n",
      "\n",
      "Log Likelihood After E-Step Iter 10 : -343.958\n",
      "\n",
      "Bound After E-Step Iter 10 : -343.958\n",
      "\n",
      "{'d': 1, 'k': 2, 'weight': array([0.31010061, 0.68989939]), 'mean': array([[-0.95608746,  1.5080712 ]]), 'cov': array([[[0.27638472, 0.05868785]]])}\n"
     ]
    },
    {
     "name": "stderr",
     "output_type": "stream",
     "text": [
      "/home/apostolos/miniconda3/lib/python3.7/site-packages/ipykernel_launcher.py:34: DeprecationWarning: np.asscalar(a) is deprecated since NumPy v1.16, use a.item() instead\n",
      "/home/apostolos/miniconda3/lib/python3.7/site-packages/ipykernel_launcher.py:46: DeprecationWarning: np.asscalar(a) is deprecated since NumPy v1.16, use a.item() instead\n"
     ]
    },
    {
     "name": "stdout",
     "output_type": "stream",
     "text": [
      "Log Likelihood After M-Step Iter 10 : -343.957\n",
      "\n",
      "Bound After M-Step Iter 10 : -343.957\n",
      "\n",
      "Log Likelihood After E-Step Iter 11 : -343.957\n",
      "\n",
      "Bound After E-Step Iter 11 : -343.957\n",
      "\n",
      "{'d': 1, 'k': 2, 'weight': array([0.3101038, 0.6898962]), 'mean': array([[-0.95606766,  1.50807369]]), 'cov': array([[[0.27642026, 0.05868666]]])}\n"
     ]
    },
    {
     "name": "stderr",
     "output_type": "stream",
     "text": [
      "/home/apostolos/miniconda3/lib/python3.7/site-packages/ipykernel_launcher.py:34: DeprecationWarning: np.asscalar(a) is deprecated since NumPy v1.16, use a.item() instead\n",
      "/home/apostolos/miniconda3/lib/python3.7/site-packages/ipykernel_launcher.py:46: DeprecationWarning: np.asscalar(a) is deprecated since NumPy v1.16, use a.item() instead\n"
     ]
    },
    {
     "name": "stdout",
     "output_type": "stream",
     "text": [
      "Log Likelihood After M-Step Iter 11 : -343.957\n",
      "\n",
      "Bound After M-Step Iter 11 : -343.957\n",
      "\n",
      "Log Likelihood After E-Step Iter 12 : -343.957\n",
      "\n",
      "Bound After E-Step Iter 12 : -343.957\n",
      "\n",
      "{'d': 1, 'k': 2, 'weight': array([0.31010391, 0.68989609]), 'mean': array([[-0.95606697,  1.50807377]]), 'cov': array([[[0.2764215 , 0.05868663]]])}\n"
     ]
    },
    {
     "name": "stderr",
     "output_type": "stream",
     "text": [
      "/home/apostolos/miniconda3/lib/python3.7/site-packages/ipykernel_launcher.py:34: DeprecationWarning: np.asscalar(a) is deprecated since NumPy v1.16, use a.item() instead\n",
      "/home/apostolos/miniconda3/lib/python3.7/site-packages/ipykernel_launcher.py:46: DeprecationWarning: np.asscalar(a) is deprecated since NumPy v1.16, use a.item() instead\n"
     ]
    },
    {
     "name": "stdout",
     "output_type": "stream",
     "text": [
      "Log Likelihood After M-Step Iter 12 : -343.957\n",
      "\n",
      "Bound After M-Step Iter 12 : -343.957\n",
      "\n",
      "Log Likelihood After E-Step Iter 13 : -343.957\n",
      "\n",
      "Bound After E-Step Iter 13 : -343.957\n",
      "\n",
      "{'d': 1, 'k': 2, 'weight': array([0.31010391, 0.68989609]), 'mean': array([[-0.95606695,  1.50807377]]), 'cov': array([[[0.27642154, 0.05868662]]])}\n"
     ]
    },
    {
     "name": "stderr",
     "output_type": "stream",
     "text": [
      "/home/apostolos/miniconda3/lib/python3.7/site-packages/ipykernel_launcher.py:34: DeprecationWarning: np.asscalar(a) is deprecated since NumPy v1.16, use a.item() instead\n",
      "/home/apostolos/miniconda3/lib/python3.7/site-packages/ipykernel_launcher.py:46: DeprecationWarning: np.asscalar(a) is deprecated since NumPy v1.16, use a.item() instead\n"
     ]
    },
    {
     "name": "stdout",
     "output_type": "stream",
     "text": [
      "Log Likelihood After M-Step Iter 13 : -343.957\n",
      "\n",
      "Bound After M-Step Iter 13 : -343.957\n",
      "\n",
      "Log Likelihood After E-Step Iter 14 : -343.957\n",
      "\n",
      "Bound After E-Step Iter 14 : -343.957\n",
      "\n",
      "{'d': 1, 'k': 2, 'weight': array([0.31010391, 0.68989609]), 'mean': array([[-0.95606695,  1.50807377]]), 'cov': array([[[0.27642154, 0.05868662]]])}\n"
     ]
    },
    {
     "name": "stderr",
     "output_type": "stream",
     "text": [
      "/home/apostolos/miniconda3/lib/python3.7/site-packages/ipykernel_launcher.py:34: DeprecationWarning: np.asscalar(a) is deprecated since NumPy v1.16, use a.item() instead\n",
      "/home/apostolos/miniconda3/lib/python3.7/site-packages/ipykernel_launcher.py:46: DeprecationWarning: np.asscalar(a) is deprecated since NumPy v1.16, use a.item() instead\n"
     ]
    },
    {
     "name": "stdout",
     "output_type": "stream",
     "text": [
      "Log Likelihood After M-Step Iter 14 : -343.957\n",
      "\n",
      "Bound After M-Step Iter 14 : -343.957\n",
      "\n",
      "Log Likelihood After E-Step Iter 15 : -343.957\n",
      "\n",
      "Bound After E-Step Iter 15 : -343.957\n",
      "\n",
      "{'d': 1, 'k': 2, 'weight': array([0.31010391, 0.68989609]), 'mean': array([[-0.95606695,  1.50807377]]), 'cov': array([[[0.27642154, 0.05868662]]])}\n"
     ]
    },
    {
     "name": "stderr",
     "output_type": "stream",
     "text": [
      "/home/apostolos/miniconda3/lib/python3.7/site-packages/ipykernel_launcher.py:34: DeprecationWarning: np.asscalar(a) is deprecated since NumPy v1.16, use a.item() instead\n",
      "/home/apostolos/miniconda3/lib/python3.7/site-packages/ipykernel_launcher.py:46: DeprecationWarning: np.asscalar(a) is deprecated since NumPy v1.16, use a.item() instead\n"
     ]
    },
    {
     "name": "stdout",
     "output_type": "stream",
     "text": [
      "Log Likelihood After M-Step Iter 15 : -343.957\n",
      "\n",
      "Bound After M-Step Iter 15 : -343.957\n",
      "\n",
      "Log Likelihood After E-Step Iter 16 : -343.957\n",
      "\n",
      "Bound After E-Step Iter 16 : -343.957\n",
      "\n",
      "{'d': 1, 'k': 2, 'weight': array([0.31010391, 0.68989609]), 'mean': array([[-0.95606695,  1.50807377]]), 'cov': array([[[0.27642154, 0.05868662]]])}\n"
     ]
    },
    {
     "name": "stderr",
     "output_type": "stream",
     "text": [
      "/home/apostolos/miniconda3/lib/python3.7/site-packages/ipykernel_launcher.py:34: DeprecationWarning: np.asscalar(a) is deprecated since NumPy v1.16, use a.item() instead\n",
      "/home/apostolos/miniconda3/lib/python3.7/site-packages/ipykernel_launcher.py:46: DeprecationWarning: np.asscalar(a) is deprecated since NumPy v1.16, use a.item() instead\n"
     ]
    },
    {
     "name": "stdout",
     "output_type": "stream",
     "text": [
      "Log Likelihood After M-Step Iter 16 : -343.957\n",
      "\n",
      "Bound After M-Step Iter 16 : -343.957\n",
      "\n",
      "Log Likelihood After E-Step Iter 17 : -343.957\n",
      "\n",
      "Bound After E-Step Iter 17 : -343.957\n",
      "\n",
      "{'d': 1, 'k': 2, 'weight': array([0.31010391, 0.68989609]), 'mean': array([[-0.95606695,  1.50807377]]), 'cov': array([[[0.27642154, 0.05868662]]])}\n"
     ]
    },
    {
     "name": "stderr",
     "output_type": "stream",
     "text": [
      "/home/apostolos/miniconda3/lib/python3.7/site-packages/ipykernel_launcher.py:34: DeprecationWarning: np.asscalar(a) is deprecated since NumPy v1.16, use a.item() instead\n",
      "/home/apostolos/miniconda3/lib/python3.7/site-packages/ipykernel_launcher.py:46: DeprecationWarning: np.asscalar(a) is deprecated since NumPy v1.16, use a.item() instead\n"
     ]
    },
    {
     "name": "stdout",
     "output_type": "stream",
     "text": [
      "Log Likelihood After M-Step Iter 17 : -343.957\n",
      "\n",
      "Bound After M-Step Iter 17 : -343.957\n",
      "\n",
      "Log Likelihood After E-Step Iter 18 : -343.957\n",
      "\n",
      "Bound After E-Step Iter 18 : -343.957\n",
      "\n",
      "{'d': 1, 'k': 2, 'weight': array([0.31010391, 0.68989609]), 'mean': array([[-0.95606695,  1.50807377]]), 'cov': array([[[0.27642154, 0.05868662]]])}\n"
     ]
    },
    {
     "name": "stderr",
     "output_type": "stream",
     "text": [
      "/home/apostolos/miniconda3/lib/python3.7/site-packages/ipykernel_launcher.py:34: DeprecationWarning: np.asscalar(a) is deprecated since NumPy v1.16, use a.item() instead\n",
      "/home/apostolos/miniconda3/lib/python3.7/site-packages/ipykernel_launcher.py:46: DeprecationWarning: np.asscalar(a) is deprecated since NumPy v1.16, use a.item() instead\n"
     ]
    },
    {
     "name": "stdout",
     "output_type": "stream",
     "text": [
      "Log Likelihood After M-Step Iter 18 : -343.957\n",
      "\n",
      "Bound After M-Step Iter 18 : -343.957\n",
      "\n",
      "Log Likelihood After E-Step Iter 19 : -343.957\n",
      "\n",
      "Bound After E-Step Iter 19 : -343.957\n",
      "\n",
      "{'d': 1, 'k': 2, 'weight': array([0.31010391, 0.68989609]), 'mean': array([[-0.95606695,  1.50807377]]), 'cov': array([[[0.27642154, 0.05868662]]])}\n"
     ]
    },
    {
     "name": "stderr",
     "output_type": "stream",
     "text": [
      "/home/apostolos/miniconda3/lib/python3.7/site-packages/ipykernel_launcher.py:34: DeprecationWarning: np.asscalar(a) is deprecated since NumPy v1.16, use a.item() instead\n",
      "/home/apostolos/miniconda3/lib/python3.7/site-packages/ipykernel_launcher.py:46: DeprecationWarning: np.asscalar(a) is deprecated since NumPy v1.16, use a.item() instead\n"
     ]
    },
    {
     "name": "stdout",
     "output_type": "stream",
     "text": [
      "Log Likelihood After M-Step Iter 19 : -343.957\n",
      "\n",
      "Bound After M-Step Iter 19 : -343.957\n",
      "\n",
      "Final Gaussian Mixture: {'d': 1, 'k': 2, 'weight': array([0.31010391, 0.68989609]), 'mean': array([[-0.95606695,  1.50807377]]), 'cov': array([[[0.27642154, 0.05868662]]])}\n"
     ]
    },
    {
     "data": {
      "image/png": "[encoded data removed]",
      "text/plain": [
       "<Figure size 432x288 with 1 Axes>"
      ]
     },
     "metadata": {
      "needs_background": "light"
     },
     "output_type": "display_data"
    },
    {
     "data": {
      "image/png": "[encoded data removed]",
      "text/plain": [
       "<Figure size 432x288 with 1 Axes>"
      ]
     },
     "metadata": {
      "needs_background": "light"
     },
     "output_type": "display_data"
    },
    {
     "data": {
      "image/png": "[encoded data removed]",
      "text/plain": [
       "<Figure size 432x288 with 1 Axes>"
      ]
     },
     "metadata": {
      "needs_background": "light"
     },
     "output_type": "display_data"
    }
   ],
   "source": [
    "#generate data from the ground truth mixture of Gaussians we've defined way above. \n",
    "#make sure you've completed this routine above.\n",
    "data = mixGaussGen1d(mixGaussTrue,nData);\n",
    "\n",
    "#draw data, ground truth mixture of Gaussians.\n",
    "drawEMData1d(data,mixGaussTrue)\n",
    "\n",
    "#print(mixGaussTrue)\n",
    "\n",
    "#define number of components to estimate\n",
    "nGaussEst = 2;\n",
    "\n",
    "#fit mixture of Gaussians (Pretend someone handed you some data. Now what?)\n",
    "#Make sure you've completed this routine above.\n",
    "mixGaussEst = fitMixGauss1d(data,nGaussEst);\n",
    "#plt.show()\n",
    "\n",
    "print(\"Final Gaussian Mixture: \" + str(mixGaussEst))"
   ]
  }
 ],
 "metadata": {
  "kernelspec": {
   "display_name": "Python 3",
   "language": "python",
   "name": "python3"
  },
  "language_info": {
   "codemirror_mode": {
    "name": "ipython",
    "version": 3
   },
   "file_extension": ".py",
   "mimetype": "text/x-python",
   "name": "python",
   "nbconvert_exporter": "python",
   "pygments_lexer": "ipython3",
   "version": "3.7.3"
  }
 },
 "nbformat": 4,
 "nbformat_minor": 4
}
