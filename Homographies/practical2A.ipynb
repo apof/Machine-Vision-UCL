{
 "cells": [
  {
   "cell_type": "markdown",
   "metadata": {},
   "source": [
    "# Practical 7 - Part 2A\n",
    "This second half of the lab explores the geometry of a single camera. In 2B the goal is to use a set of correspondance points to estimate a transformation matrix from a plane's 3D space to camera space and use that matrix to project some other points into camera space.\n",
    "\n",
    "In this section, we'll work on building two components that we need for 2B, a method to estimate that transformation and a method that can project points into camera image space.\n",
    "\n",
    "First we'll tackle the projection method, `projectiveCamera`. We want to find the image space coordinates, `XImCart`, of a set of 3D world coordinates, `XCart`, given a camera intrinsics matrix `K` and an extrinsics matrix `T`.\n",
    "\n",
    "The second component is a method to estimate a Eucledian transformation, `TEst`, that takes us from a plane's 3D coordinate space to 3D camera space by utilizing a given set of points in camera image space, `XImCart`, and a set of corresponding points in world space, `XCart`. Essentially we want to compute the extrinsics matrix we can use in `projectiveCamera`.\n",
    "\n",
    "Estimating the camera pose will involve calculating a homography, so you'll need to copy over your functions from part 1A/1B in the space provided."
   ]
  },
  {
   "cell_type": "markdown",
   "metadata": {},
   "source": [
    "## Import libraries "
   ]
  },
  {
   "cell_type": "code",
   "execution_count": 1,
   "metadata": {},
   "outputs": [
    {
     "name": "stdout",
     "output_type": "stream",
     "text": [
      "importing Jupyter notebook from practical1A.ipynb\n"
     ]
    },
    {
     "data": {
      "image/png": "[encoded data removed]",
      "text/plain": [
       "<Figure size 432x288 with 1 Axes>"
      ]
     },
     "metadata": {
      "needs_background": "light"
     },
     "output_type": "display_data"
    },
    {
     "name": "stdout",
     "output_type": "stream",
     "text": [
      "Sqaured difference between pts2Cart and pts2EstCart is: 7.97\n"
     ]
    },
    {
     "data": {
      "image/png": "[encoded data removed]",
      "text/plain": [
       "<Figure size 432x288 with 1 Axes>"
      ]
     },
     "metadata": {
      "needs_background": "light"
     },
     "output_type": "display_data"
    }
   ],
   "source": [
    "%matplotlib inline\n",
    "import os \n",
    "import numpy as np\n",
    "import matplotlib.pyplot as plt\n",
    "import scipy.io as sio\n",
    "\n",
    "import import_ipynb\n",
    "from practical1A import solveAXEqualsZero\n",
    "from practical1A import calcBestHomography"
   ]
  },
  {
   "cell_type": "code",
   "execution_count": 2,
   "metadata": {},
   "outputs": [],
   "source": [
    "def projectiveCamera(K,T,XCart):\n",
    "    \n",
    "    ##TODO\n",
    "    # The goal of this function is to project points in XCart through projective camera\n",
    "    # defined by intrinsic matrix K and extrinsic matrix T. In essence, this function takes a set of points \n",
    "    # in 3D world space, XCart, and projects them into camera image space by applying the extrinsic matrix T \n",
    "    # and then applying the intrinsic matrix K.\n",
    "    # \n",
    "    # There are three steps.\n",
    "    # 1) Move from world space to camera space. \n",
    "    #            camera space points = extrinsics T * world space points \n",
    "    #\n",
    "    # 2) Applying the intrinsics matrix to the camera space points after normalizing\n",
    "    #           homogeneous image space points = K * normalized camera space points\n",
    "    # \n",
    "    # 3) Move to image space cartesian points from image space homogeneous points, involves a \n",
    "    # normalization using the third row.\n",
    "    \n",
    "    \n",
    "    # TO DO: Replace this\n",
    "    #XImCart = []\n",
    "    \n",
    "    # TO DO: Convert Cartesian 3d points XCart to homogeneous coordinates XHom\n",
    "    XHom = np.vstack([XCart,np.ones(XCart.shape[1])])\n",
    "\n",
    "    # TO DO: Apply extrinsic matrix to XHom, to move to frame of reference of camera\n",
    "    mul= T@XHom\n",
    "    \n",
    "    # TO DO: Project points into normalized camera coordinates xCamHom (remove 4th row)\n",
    "    xCamHom = mul[0:3,:]\n",
    "    \n",
    "    # TO DO: Move points to image coordinates xImHom by applying intrinsic matrix\n",
    "    \n",
    "    xImHom = K@xCamHom\n",
    "    \n",
    "    # TO DO: Convert points back to Cartesian coordinates xImCart\n",
    "    \n",
    "    XImCart = xImHom[0:2,:]/xImHom[2,:]\n",
    "    \n",
    "\n",
    "    \n",
    "    return XImCart\n"
   ]
  },
  {
   "cell_type": "markdown",
   "metadata": {},
   "source": [
    "## Camera Projection\n",
    "\n",
    "First we'll write up the function that can take us from 3D world space, `XCart`, to camera image space, `XImCart`, using an extrinsics matrix `T` and an intrinsics matrix `K` that are provided. The previous block houses this function.\n",
    "\n",
    "The result here is the cartesian image space point coordinates, `XImCart`, of the 3D points `XCart`. If `XCart` represents a box in the world then we now know where the box's vertices would land in image space.\n",
    "\n",
    "To verify that your solution is correct please compare your image space points to those in the comment.\n",
    "\n",
    "Once they match, move on to the next bit - estimating a transformation! "
   ]
  },
  {
   "cell_type": "code",
   "execution_count": 3,
   "metadata": {},
   "outputs": [
    {
     "name": "stdout",
     "output_type": "stream",
     "text": [
      "[[267.4170882  230.95045427 531.42492013 482.36049098 378.77537982]\n",
      " [396.26814909 288.11435494 237.83410247 358.39940241 329.44079538]]\n"
     ]
    }
   ],
   "source": [
    "# We assume that the camera intrinsics matrix K is known and has values:\n",
    "K = np.array([[640, 0, 320],\n",
    "             [0, 640, 240],\n",
    "             [0, 0, 1]])\n",
    "\n",
    "# We will assume an object co-ordinate system with the Z-axis pointing upwards and the origin\n",
    "# in the centre of the plane. There are five known points on the plane with coordinates (mm):\n",
    "XCart = np.array([[-100, -100,  100,  100, 0],\n",
    "                  [-100,  100,  100, -100, 0],\n",
    "                  [   0,    0,    0,    0, 0]])\n",
    "\n",
    "# We assume the correct transformation from the plane co-ordinate system to the\n",
    "# camera co-ordinate system (extrinsic matrix) is:\n",
    "T = np.array([[0.9851,  -0.0492,  0.1619,  46.00],\n",
    "             [-0.1623,  -0.5520,  0.8181,  70.00],\n",
    "             [0.0490,  -0.8324, -0.5518,  500.89],\n",
    "             [0,        0,       0,       1]])\n",
    "# T houses a rotation matrix and a translation matrix. The last row is for homogeneous point calculation.\n",
    "\n",
    "\n",
    "# TO DO: Use the general pin-hole projective camera model discussed in the lectures to estimate \n",
    "# where the four points on the plane will appear in the image.  Fill in the\n",
    "# details of the function \"projectiveCamera\"\n",
    "XImCart = projectiveCamera(K,T,XCart)\n",
    "\n",
    "print(XImCart)\n",
    "# Should be around:\n",
    "# [267.4170882  230.95045427 531.42492013 482.36049098 378.77537982]\n",
    "# [396.26814909 288.11435494 237.83410247 358.39940241 329.44079538]"
   ]
  },
  {
   "cell_type": "markdown",
   "metadata": {},
   "source": [
    "### You've implemented both of these functions in 1A and 1B already, so feel free to copy them in here. You'll need them for this next part."
   ]
  },
  {
   "cell_type": "markdown",
   "metadata": {},
   "source": [
    "I have imported the first notebook for that reason without copied the functions to that notebook."
   ]
  },
  {
   "cell_type": "code",
   "execution_count": 4,
   "metadata": {},
   "outputs": [],
   "source": [
    "# Read the next cell first for context!\n",
    "\n",
    "def estimatePlanePose(XImCart,XCart,K):\n",
    "    # The goal of this function is to estimate the pose of a plane relative to camera (extrinsic matrix)\n",
    "    # given points in image space xImCart, points in 3D world space XCart, and an intrinsics matrix K.\n",
    "    \n",
    "    # TO DO: replace this\n",
    "    T = []\n",
    "\n",
    "    # TO DO: Convert Cartesian image points XImCart to homogeneous representation XImHom\n",
    "    XImHom = np.vstack([XImCart,np.ones(XImCart.shape[1])])\n",
    "    \n",
    "    # TO DO: Convert image co-ordinates XImHom to normalized camera coordinates XCamHom\n",
    "    xCamHom,_,_,_ = np.linalg.lstsq(K,XImHom)\n",
    "    \n",
    "    # TO DO: Estimate homography H mapping homogeneous (x,y) coordinates of positions\n",
    "    # in real world to XCamHom (convert XCamHom to Cartesian, calculate the homography) -\n",
    "    # use the routine you wrote for Practical 1B\n",
    "    \n",
    "    H = calcBestHomography(XCart,xCamHom)\n",
    "    \n",
    "    # TO DO: Estimate first two columns of rotation matrix R from the first two\n",
    "    # columns of H using the SVD. NOTE: You do not need to transpose v from linalg.svd\n",
    "    \n",
    "    U,s,V = np.linalg.svd(H[:,0:2])   \n",
    "    rot2 = U @ np.array([[1,0],[0,1],[0,0]]) @ V\n",
    "\n",
    "    # TO DO: Estimate the third column of the rotation matrix by taking the cross\n",
    "    # product of the first two columns\n",
    "    \n",
    "    rot3 = np.cross(rot2[:,0],rot2[:,1]) \n",
    "    R = np.c_[rot2,rot3]\n",
    "        \n",
    "    # TO DO: Check that the determinant of the rotation matrix is positive - if\n",
    "    # not then multiply last column by -1.\n",
    "    \n",
    "    if(np.linalg.det(R) < 0):\n",
    "        R[:,-1] = (-1)*R[:,-1]\n",
    "\n",
    "    # TO DO: Estimate the translation t by finding the appropriate scaling factor k\n",
    "    # and applying it to the third colulmn of H\n",
    "    \n",
    "    scale_factor = np.mean(np.mean(H[:,0:2]/rot2,axis = 0))\n",
    "    t = H[:,2]/scale_factor\n",
    "    \n",
    "    # TO DO: Check whether t_z is negative - if it is then multiply t by -1 and\n",
    "    # the first two columns of R by -1.\n",
    "    \n",
    "    if(t[2] < 0):\n",
    "        t = t*(-1)\n",
    "        R[:,0:2] = R[:,0:2] * (-1)\n",
    "        \n",
    "    T = np.c_[R,t]\n",
    "    \n",
    "    T = np.vstack([T,np.array([0,0,0,1])])\n",
    "            \n",
    "    # TO DO: Assemble transformation into matrix form\n",
    "\n",
    "    \n",
    "    return T "
   ]
  },
  {
   "cell_type": "markdown",
   "metadata": {},
   "source": [
    "## Now the juicy bit: Estimating an Extrinsics Matrix, T\n",
    "\n",
    "The problem: We are given an instrinsics matrix `K`, a set of 3D world points `XCart`, and a set of corresponding image space coordinates in `XImCart`. `K` and `XCart` have already been defined a few cells back and you've calculated `XImCart` by virtue of the exercise you've completed with camera projection. What we don't have is an extrinsics matrix, `T`. We need to estimate this and you'll need to fill in `estimatePlanePose` and return `TEst`.\n",
    "\n",
    "Again you can start by negating the noise we add to XImCart to make sure you're on the right track."
   ]
  },
  {
   "cell_type": "code",
   "execution_count": 5,
   "metadata": {},
   "outputs": [
    {
     "name": "stdout",
     "output_type": "stream",
     "text": [
      "Imcart before noise\n",
      "[[267.4170882  230.95045427 531.42492013 482.36049098 378.77537982]\n",
      " [396.26814909 288.11435494 237.83410247 358.39940241 329.44079538]]\n",
      "-------\n",
      "Imcart after noise\n",
      "[[268.20985938 232.74257677 532.16405887 483.40252951 380.08305385]\n",
      " [397.53884298 288.38461476 238.42008968 359.39908336 330.66125295]]\n",
      "-------\n",
      "[[ 9.852e-01 -4.632e-02  1.653e-01  4.659e+01]\n",
      " [-1.627e-01 -5.585e-01  8.134e-01  7.003e+01]\n",
      " [ 5.463e-02 -8.282e-01 -5.578e-01  4.966e+02]\n",
      " [ 0.000e+00  0.000e+00  0.000e+00  1.000e+00]]\n",
      "\n",
      "\n",
      "[[ 9.851e-01 -4.920e-02  1.619e-01  4.600e+01]\n",
      " [-1.623e-01 -5.520e-01  8.181e-01  7.000e+01]\n",
      " [ 4.900e-02 -8.324e-01 -5.518e-01  5.009e+02]\n",
      " [ 0.000e+00  0.000e+00  0.000e+00  1.000e+00]]\n"
     ]
    },
    {
     "name": "stderr",
     "output_type": "stream",
     "text": [
      "/home/apostolos/miniconda3/lib/python3.7/site-packages/ipykernel_launcher.py:14: FutureWarning: `rcond` parameter will change to the default of machine precision times ``max(M, N)`` where M and N are the input matrix dimensions.\n",
      "To use the future default and silence this warning we advise to pass `rcond=None`, to keep using the old, explicitly pass `rcond=-1`.\n",
      "  \n"
     ]
    }
   ],
   "source": [
    "# TO DO: Add noise (standard deviation of one pixel in each direction) to the pixel positions\n",
    "# to simulate having to find these points in a noisy image. Store the results back in xImCart\n",
    "#XImCartNoisy = XImCart #add noise here\n",
    "\n",
    "mu, sigma = 1,0.4 # mean and standard deviation\n",
    "\n",
    "print(\"Imcart before noise\")\n",
    "print(XImCart)\n",
    "print(\"-------\")\n",
    "XImCartNoisy = XImCart + np.random.normal(mu, sigma,XImCart.shape)\n",
    "print(\"Imcart after noise\")\n",
    "print(XImCartNoisy)\n",
    "print(\"-------\")\n",
    "\n",
    "\n",
    "# TO DO: Now we will take the image points and the known positions on the card and estimate  \n",
    "# the extrinsic matrix using the algorithm discussed in the lecture.  Fill in the details of \n",
    "# the function estimatePlanePose\n",
    "TEst = estimatePlanePose(XImCartNoisy,XCart,K)\n",
    "\n",
    "# If you have got this correct, TEst should closely resemble the groundtruth, T.\n",
    "np.set_printoptions(precision=3)\n",
    "print(TEst)\n",
    "print(\"\\n\")\n",
    "print(T)"
   ]
  }
 ],
 "metadata": {
  "kernelspec": {
   "display_name": "Python 3",
   "language": "python",
   "name": "python3"
  },
  "language_info": {
   "codemirror_mode": {
    "name": "ipython",
    "version": 3
   },
   "file_extension": ".py",
   "mimetype": "text/x-python",
   "name": "python",
   "nbconvert_exporter": "python",
   "pygments_lexer": "ipython3",
   "version": "3.7.3"
  }
 },
 "nbformat": 4,
 "nbformat_minor": 1
}
